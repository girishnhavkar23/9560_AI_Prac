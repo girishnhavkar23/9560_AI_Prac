{
 "cells": [
  {
   "cell_type": "code",
   "execution_count": 1,
   "metadata": {},
   "outputs": [
    {
     "name": "stdout",
     "output_type": "stream",
     "text": [
      "\n",
      "Diagnosis:\n",
      "- flu (42.7% chance)\n",
      "- pneumonia (23.2% chance)\n",
      "- asthma (19.0% chance)\n",
      "- bronchitis (15.2% chance)\n"
     ]
    }
   ],
   "source": [
    "import re\n",
    "# Define expert system rules\n",
    "rules = {\n",
    "    'cough': {\n",
    "        'bronchitis': 0.8,\n",
    "        'pneumonia': 0.7,\n",
    "        'asthma': 0.4\n",
    "    },\n",
    "    'fever': {\n",
    "        'flu': 0.9,\n",
    "        'pneumonia': 0.7,\n",
    "        'bronchitis': 0.4\n",
    "    },\n",
    "    'fatigue': {\n",
    "        'flu': 0.8,\n",
    "        'pneumonia': 0.6,\n",
    "        'asthma': 0.3\n",
    "    },\n",
    "    'shortness of breath': {\n",
    "        'pneumonia': 0.9,\n",
    "        'asthma': 0.6,\n",
    "        'bronchitis': 0.3\n",
    "    }\n",
    "}\n",
    "\n",
    "# Define function to prompt user for symptoms and return diagnosis\n",
    "def diagnose():\n",
    "    # Prompt user for symptoms\n",
    "    symptoms = input('Enter your symptoms (comma-separated): ').split(',')\n",
    "    \n",
    "    # Initialize diagnosis dictionary\n",
    "    diagnosis = {}\n",
    "    \n",
    "    # Iterate through rules to infer diagnosis\n",
    "    for symptom in symptoms:\n",
    "        if symptom in rules:\n",
    "            for condition, score in rules[symptom].items():\n",
    "                if condition not in diagnosis:\n",
    "                    diagnosis[condition] = score\n",
    "                else:\n",
    "                    diagnosis[condition] *= score\n",
    "    \n",
    "    # Normalize scores and sort by descending score\n",
    "    total = sum(diagnosis.values())\n",
    "    diagnosis = {condition: score/total for condition, score in diagnosis.items()}\n",
    "    diagnosis = sorted(diagnosis.items(), key=lambda x: x[1], reverse=True)\n",
    "    \n",
    "    # Print diagnosis\n",
    "    print('\\nDiagnosis:')\n",
    "    for condition, score in diagnosis:\n",
    "        print('- {} ({:.1%} chance)'.format(condition, score))\n",
    "\n",
    "# Run expert system\n",
    "diagnose()"
   ]
  }
 ],
 "metadata": {
  "kernelspec": {
   "display_name": "Python 3",
   "language": "python",
   "name": "python3"
  },
  "language_info": {
   "codemirror_mode": {
    "name": "ipython",
    "version": 3
   },
   "file_extension": ".py",
   "mimetype": "text/x-python",
   "name": "python",
   "nbconvert_exporter": "python",
   "pygments_lexer": "ipython3",
   "version": "3.12.2"
  }
 },
 "nbformat": 4,
 "nbformat_minor": 2
}
